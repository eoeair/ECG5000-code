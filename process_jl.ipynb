{
 "cells": [
  {
   "cell_type": "code",
   "execution_count": 57,
   "id": "020c944b-be39-44be-8eef-4770396dd339",
   "metadata": {
    "execution": {
     "iopub.execute_input": "2024-12-28T21:09:15.844",
     "iopub.status.busy": "2024-12-28T21:09:15.844",
     "iopub.status.idle": "2024-12-28T21:09:29.026",
     "shell.execute_reply": "2024-12-28T21:09:29.026"
    }
   },
   "outputs": [
    {
     "name": "stderr",
     "output_type": "stream",
     "text": [
      "\u001b[32m\u001b[1m   Resolving\u001b[22m\u001b[39m package versions...\n",
      "\u001b[32m\u001b[1m  No Changes\u001b[22m\u001b[39m to `/opt/julia/environments/v1.11/Project.toml`\n",
      "\u001b[32m\u001b[1m  No Changes\u001b[22m\u001b[39m to `/opt/julia/environments/v1.11/Manifest.toml`\n",
      "\u001b[32m\u001b[1m   Resolving\u001b[22m\u001b[39m package versions...\n",
      "\u001b[32m\u001b[1m  No Changes\u001b[22m\u001b[39m to `/opt/julia/environments/v1.11/Project.toml`\n",
      "\u001b[32m\u001b[1m  No Changes\u001b[22m\u001b[39m to `/opt/julia/environments/v1.11/Manifest.toml`\n",
      "\u001b[32m\u001b[1m   Resolving\u001b[22m\u001b[39m package versions...\n",
      "\u001b[32m\u001b[1m  No Changes\u001b[22m\u001b[39m to `/opt/julia/environments/v1.11/Project.toml`\n",
      "\u001b[32m\u001b[1m  No Changes\u001b[22m\u001b[39m to `/opt/julia/environments/v1.11/Manifest.toml`\n",
      "\u001b[32m\u001b[1m   Resolving\u001b[22m\u001b[39m package versions...\n",
      "\u001b[32m\u001b[1m  No Changes\u001b[22m\u001b[39m to `/opt/julia/environments/v1.11/Project.toml`\n",
      "\u001b[32m\u001b[1m  No Changes\u001b[22m\u001b[39m to `/opt/julia/environments/v1.11/Manifest.toml`\n"
     ]
    }
   ],
   "source": [
    "import Pkg\n",
    "Pkg.add(\"ARFFFiles\")\n",
    "Pkg.add(\"DataFrames\")\n",
    "\n",
    "Pkg.add(\"MLJBase\")\n",
    "Pkg.add(\"NearestNeighborModels\")"
   ]
  },
  {
   "cell_type": "code",
   "execution_count": 53,
   "id": "4b9db8f8-4f04-4124-9d36-da369823f49e",
   "metadata": {
    "execution": {
     "iopub.execute_input": "2024-12-28T21:08:16.855",
     "iopub.status.busy": "2024-12-28T21:08:16.854",
     "iopub.status.idle": "2024-12-28T21:08:17.260",
     "shell.execute_reply": "2024-12-28T21:08:17.260"
    },
    "scrolled": true
   },
   "outputs": [
    {
     "data": {
      "text/plain": [
       "4500-element CategoricalArrays.CategoricalArray{String,1,UInt32}:\n",
       " \"1\"\n",
       " \"1\"\n",
       " \"1\"\n",
       " \"1\"\n",
       " \"1\"\n",
       " \"1\"\n",
       " \"1\"\n",
       " \"1\"\n",
       " \"1\"\n",
       " \"1\"\n",
       " \"1\"\n",
       " \"1\"\n",
       " \"1\"\n",
       " ⋮\n",
       " \"2\"\n",
       " \"2\"\n",
       " \"2\"\n",
       " \"4\"\n",
       " \"2\"\n",
       " \"2\"\n",
       " \"2\"\n",
       " \"4\"\n",
       " \"2\"\n",
       " \"2\"\n",
       " \"2\"\n",
       " \"2\""
      ]
     },
     "execution_count": 53,
     "metadata": {},
     "output_type": "execute_result"
    }
   ],
   "source": [
    "using ARFFFiles, DataFrames\n",
    "\n",
    "train = ARFFFiles.load(DataFrame, \"ECG5000_TRAIN.arff\")\n",
    "\n",
    "train_data = Matrix(train[:, 1:end-1])\n",
    "train_data .= (train_data .- maximum(train_data)) ./ (maximum(train_data) .- minimum(train_data))\n",
    "\n",
    "train_label = train[:, end]\n",
    "\n",
    "test = ARFFFiles.load(DataFrame, \"ECG5000_TEST.arff\")\n",
    "\n",
    "test_data = Matrix(test[:, 1:end-1])\n",
    "test_data .= (test_data .- maximum(test_data)) ./ (maximum(test_data) .- minimum(test_data))\n",
    "\n",
    "test_label = test[:, end]"
   ]
  },
  {
   "cell_type": "code",
   "execution_count": 54,
   "id": "dee70bb0-adaf-4696-baed-7b42bf7a128c",
   "metadata": {
    "execution": {
     "iopub.execute_input": "2024-12-28T21:08:17.966",
     "iopub.status.busy": "2024-12-28T21:08:17.966",
     "iopub.status.idle": "2024-12-28T21:08:17.977",
     "shell.execute_reply": "2024-12-28T21:08:17.977"
    }
   },
   "outputs": [
    {
     "name": "stderr",
     "output_type": "stream",
     "text": [
      "\u001b[36m\u001b[1m[ \u001b[22m\u001b[39m\u001b[36m\u001b[1mInfo: \u001b[22m\u001b[39mTraining machine(KNNClassifier(K = 5, …), …).\n"
     ]
    },
    {
     "data": {
      "text/plain": [
       "trained Machine; caches model-specific representations of data\n",
       "  model: KNNClassifier(K = 5, …)\n",
       "  args: \n",
       "    1:\tSource @410 ⏎ Table{AbstractVector{Continuous}}\n",
       "    2:\tSource @029 ⏎ AbstractVector{Multiclass{5}}\n"
      ]
     },
     "execution_count": 54,
     "metadata": {},
     "output_type": "execute_result"
    }
   ],
   "source": [
    "using NearestNeighborModels, MLJBase\n",
    "\n",
    "# 转换数据为 MLJ 支持的格式\n",
    "train_data = MLJ.table(train_data)\n",
    "test_data = MLJ.table(test_data)\n",
    "\n",
    "# 实例化模型\n",
    "knnc = KNNClassifier(weights=Inverse())\n",
    "\n",
    "# 包装为 MLJ 的 machine\n",
    "knnc_mach = machine(knnc, train_data, train_label)\n",
    "\n",
    "# 训练模型\n",
    "fit!(knnc_mach)"
   ]
  },
  {
   "cell_type": "code",
   "execution_count": 55,
   "id": "f045b4a8-04a9-40e7-b345-710eda7544fa",
   "metadata": {
    "execution": {
     "iopub.execute_input": "2024-12-28T21:08:19.260",
     "iopub.status.busy": "2024-12-28T21:08:19.260",
     "iopub.status.idle": "2024-12-28T21:08:19.538",
     "shell.execute_reply": "2024-12-28T21:08:19.538"
    }
   },
   "outputs": [
    {
     "data": {
      "text/plain": [
       "4500-element CategoricalArrays.CategoricalArray{String,1,UInt32}:\n",
       " \"1\"\n",
       " \"1\"\n",
       " \"1\"\n",
       " \"1\"\n",
       " \"1\"\n",
       " \"1\"\n",
       " \"1\"\n",
       " \"1\"\n",
       " \"1\"\n",
       " \"1\"\n",
       " \"1\"\n",
       " \"1\"\n",
       " \"1\"\n",
       " ⋮\n",
       " \"4\"\n",
       " \"2\"\n",
       " \"2\"\n",
       " \"4\"\n",
       " \"2\"\n",
       " \"4\"\n",
       " \"4\"\n",
       " \"2\"\n",
       " \"4\"\n",
       " \"2\"\n",
       " \"2\"\n",
       " \"4\""
      ]
     },
     "execution_count": 55,
     "metadata": {},
     "output_type": "execute_result"
    }
   ],
   "source": [
    "# 使用模型对测试数据进行预测\n",
    "predictions = predict_mode(knnc_mach, test_data)"
   ]
  },
  {
   "cell_type": "code",
   "execution_count": 56,
   "id": "3254bf5a-0f44-4b94-984d-4080c413cb89",
   "metadata": {
    "execution": {
     "iopub.execute_input": "2024-12-28T21:09:02.421",
     "iopub.status.busy": "2024-12-28T21:09:02.421",
     "iopub.status.idle": "2024-12-28T21:09:02.800",
     "shell.execute_reply": "2024-12-28T21:09:02.800"
    }
   },
   "outputs": [
    {
     "name": "stdout",
     "output_type": "stream",
     "text": [
      "Accuracy: 0.9395555555555556\n"
     ]
    }
   ],
   "source": [
    "# 计算准确率\n",
    "accuracy = sum(predictions .== test_label) / length(test_label)\n",
    "\n",
    "# 输出准确率\n",
    "println(\"Accuracy: $accuracy\")"
   ]
  },
  {
   "cell_type": "code",
   "execution_count": null,
   "id": "2bc30d5d-4d82-4424-bc73-c3f42e2f2eff",
   "metadata": {},
   "outputs": [],
   "source": []
  }
 ],
 "metadata": {
  "kernelspec": {
   "display_name": "Julia 1.11.2",
   "language": "julia",
   "name": "julia-1.11"
  },
  "language_info": {
   "file_extension": ".jl",
   "mimetype": "application/julia",
   "name": "julia",
   "version": "1.11.2"
  }
 },
 "nbformat": 4,
 "nbformat_minor": 5
}
