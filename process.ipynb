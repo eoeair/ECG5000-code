{
 "cells": [
  {
   "cell_type": "code",
   "execution_count": 14,
   "metadata": {},
   "outputs": [],
   "source": [
    "import numpy as np\n",
    "\n",
    "from sklearn.neighbors import KNeighborsClassifier\n",
    "from sklearn.metrics import accuracy_score"
   ]
  },
  {
   "cell_type": "code",
   "execution_count": 20,
   "metadata": {},
   "outputs": [],
   "source": [
    "train=np.load('train.npy')\n",
    "\n",
    "train_data=train[:,0:-1]\n",
    "train_data = (train_data - np.max(train_data)) / (np.max(train_data) - np.min(train_data))\n",
    "\n",
    "train_label=train[:,-1]"
   ]
  },
  {
   "cell_type": "code",
   "execution_count": 21,
   "metadata": {},
   "outputs": [],
   "source": [
    "test=np.load('test.npy')\n",
    "\n",
    "test_data=test[:,0:-1]\n",
    "test_data = (test_data - np.max(test_data)) / (np.max(test_data) - np.min(test_data))\n",
    "\n",
    "test_label=test[:,-1]"
   ]
  },
  {
   "cell_type": "code",
   "execution_count": 22,
   "metadata": {},
   "outputs": [
    {
     "name": "stdout",
     "output_type": "stream",
     "text": [
      "预测结果: [1. 1. 1. ... 2. 2. 4.]\n",
      "准确率: 93.49%\n"
     ]
    }
   ],
   "source": [
    "# 创建KNN模型，n_neighbors表示选择的邻居数\n",
    "knn = KNeighborsClassifier(n_neighbors=3)\n",
    "\n",
    "# 训练模型\n",
    "knn.fit(train_data, train_label)\n",
    "\n",
    "# 使用模型进行预测\n",
    "predictions = knn.predict(test_data)\n",
    "\n",
    "# 计算准确率\n",
    "accuracy = accuracy_score(test_label, predictions)\n",
    "\n",
    "print(\"预测结果:\", predictions)\n",
    "print(\"准确率: {:.2f}%\".format(accuracy * 100))\n"
   ]
  },
  {
   "cell_type": "code",
   "execution_count": null,
   "metadata": {},
   "outputs": [],
   "source": []
  }
 ],
 "metadata": {
  "kernelspec": {
   "display_name": ".venv",
   "language": "python",
   "name": "python3"
  },
  "language_info": {
   "codemirror_mode": {
    "name": "ipython",
    "version": 3
   },
   "file_extension": ".py",
   "mimetype": "text/x-python",
   "name": "python",
   "nbconvert_exporter": "python",
   "pygments_lexer": "ipython3",
   "version": "3.12.8"
  }
 },
 "nbformat": 4,
 "nbformat_minor": 2
}
